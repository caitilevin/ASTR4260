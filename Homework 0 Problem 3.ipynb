{
 "cells": [
  {
   "cell_type": "markdown",
   "id": "de3118fb",
   "metadata": {},
   "source": [
    "Caiti Levin\n",
    "crl2156\n",
    "\n",
    "Alex Savino (avs2167) helped me with this assignment"
   ]
  },
  {
   "cell_type": "code",
   "execution_count": null,
   "id": "6929dc21",
   "metadata": {},
   "outputs": [],
   "source": [
    "def outside_line(s):\n",
    "    outside_line_stars = r\n",
    "    old_box.append(outside_line_stars)\n",
    "    return(outside_line_stars)\n",
    "\n",
    "def middle_lines(s):    \n",
    "    for i in range(len(li)):\n",
    "        spaces = (((len(r)-len(li[i]))-2))\n",
    "        left_spaces = spaces//2\n",
    "        right_spaces = left_spaces + (spaces % 2)\n",
    "        li[i] = stars + (\" \" * left_spaces) + li[i] + (\" \" * right_spaces) + stars\n",
    "        old_box.append(li[i])\n",
    "    return(li)\n",
    "\n",
    "def print_box(s):   \n",
    "    outside_line(s)\n",
    "    middle_lines(s)\n",
    "    outside_line(s)\n",
    "    new_box = \"\\n\".join(old_box)\n",
    "    return(new_box)   \n",
    "\n",
    "if __name__ == \"__main__\":\n",
    "    s = input(\"please type the phrase: Hello World \")\n",
    "    li = s.split(\"\\\\n\")\n",
    "    \n",
    "    word_length = []\n",
    "    max_word_length = 0\n",
    "    for i in range(len(li)):\n",
    "        x = len(li[i])\n",
    "        word_length.append(x)\n",
    "        max_word_length = max(word_length)\n",
    "        \n",
    "    num_stars = max_word_length + 4\n",
    "    stars = \"*\"\n",
    "    r = stars * num_stars\n",
    "    \n",
    "    old_box = []\n",
    "    print(print_box(s))"
   ]
  },
  {
   "cell_type": "code",
   "execution_count": null,
   "id": "2c12cb81",
   "metadata": {},
   "outputs": [],
   "source": []
  },
  {
   "cell_type": "code",
   "execution_count": null,
   "id": "0771ec86",
   "metadata": {},
   "outputs": [],
   "source": []
  }
 ],
 "metadata": {
  "kernelspec": {
   "display_name": "Python 3",
   "language": "python",
   "name": "python3"
  },
  "language_info": {
   "codemirror_mode": {
    "name": "ipython",
    "version": 3
   },
   "file_extension": ".py",
   "mimetype": "text/x-python",
   "name": "python",
   "nbconvert_exporter": "python",
   "pygments_lexer": "ipython3",
   "version": "3.8.8"
  }
 },
 "nbformat": 4,
 "nbformat_minor": 5
}
