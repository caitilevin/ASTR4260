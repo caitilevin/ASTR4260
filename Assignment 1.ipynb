{
 "cells": [
  {
   "cell_type": "code",
   "execution_count": 9,
   "id": "5684c29a",
   "metadata": {},
   "outputs": [],
   "source": [
    "#Problem Set 1\n",
    "#Caiti Levin\n",
    "#crl2156\n",
    "#worked with Alex Savino, Jolie L'Heureux, & Colin Holm-Hansen\n",
    "import numpy as np\n",
    "import math as m"
   ]
  },
  {
   "cell_type": "markdown",
   "id": "17f745c9",
   "metadata": {},
   "source": [
    "PROBLEM 1:"
   ]
  },
  {
   "cell_type": "code",
   "execution_count": 10,
   "id": "5ddfb51d",
   "metadata": {},
   "outputs": [
    {
     "name": "stdout",
     "output_type": "stream",
     "text": [
      "value of x:  1.0       value of y:       0.0\n",
      "value of x:  1.5       value of y:       0.4054651081081644\n",
      "value of x:  2.0       value of y:       0.6931471805599453\n",
      "value of x:  2.5       value of y:       0.9162907318741551\n",
      "value of x:  3.0       value of y:       1.0986122886681098\n",
      "value of x:  3.5       value of y:       1.252762968495368\n",
      "value of x:  4.0       value of y:       1.3862943611198906\n",
      "value of x:  4.5       value of y:       1.5040773967762742\n",
      "value of x:  5.0       value of y:       1.6094379124341003\n",
      "value of x:  5.5       value of y:       1.7047480922384253\n",
      "value of x:  6.0       value of y:       1.791759469228055\n",
      "value of x:  6.5       value of y:       1.8718021769015913\n",
      "value of x:  7.0       value of y:       1.9459101490553132\n",
      "value of x:  7.5       value of y:       2.0149030205422647\n",
      "value of x:  8.0       value of y:       2.0794415416798357\n",
      "value of x:  8.5       value of y:       2.1400661634962708\n",
      "value of x:  9.0       value of y:       2.1972245773362196\n",
      "value of x:  9.5       value of y:       2.2512917986064953\n",
      "value of x:  10.0       value of y:       2.302585092994046\n"
     ]
    }
   ],
   "source": [
    "#Problem 1\n",
    "\n",
    "x = 1.0\n",
    "\n",
    "while x < 10.5:\n",
    "    y = m.log(x)\n",
    "    print(\"value of x: \", x, \"     \", \"value of y: \", \"    \", y)\n",
    "    \n",
    "    x += 0.5"
   ]
  },
  {
   "cell_type": "markdown",
   "id": "fa93e670",
   "metadata": {},
   "source": [
    "PROBLEM 2:"
   ]
  },
  {
   "cell_type": "code",
   "execution_count": 11,
   "id": "c1a4bcef",
   "metadata": {},
   "outputs": [
    {
     "name": "stdout",
     "output_type": "stream",
     "text": [
      "1.0\n",
      "0.997335263983016\n",
      "0.9926934503699995\n",
      "0.987042673242156\n",
      "0.9808496779305925\n",
      "0.9745022090966324\n",
      "0.9684170049114547\n",
      "0.9631632627651049\n",
      "0.96\n",
      "0.96\n",
      "0.96\n",
      "0.96\n",
      "0.96\n",
      "0.96\n",
      "0.96\n",
      "0.96\n",
      "0.96\n",
      "0.96\n",
      "0.96\n",
      "0.96\n",
      "0.96\n",
      "0.96\n",
      "0.96\n",
      "0.96\n",
      "0.96\n",
      "0.96\n",
      "0.96\n",
      "0.96\n",
      "0.96\n",
      "0.96\n",
      "0.96\n",
      "0.96\n",
      "0.96\n",
      "0.96\n",
      "0.96\n",
      "0.96\n",
      "0.96\n",
      "0.96\n",
      "0.96\n",
      "0.96\n",
      "0.9600000013144705\n",
      "0.9631632627651051\n",
      "0.9684170049114548\n",
      "0.9745022090966324\n",
      "0.9808496779305926\n",
      "0.9870426732421562\n",
      "0.9926934503699996\n",
      "0.9973352639830161\n",
      "1\n"
     ]
    }
   ],
   "source": [
    "#Problem 2\n",
    "import numpy as np\n",
    "import math as m\n",
    "\n",
    "def lambda_function(p, z):\n",
    "    \n",
    "    if z > (1 + p):\n",
    "        return 0\n",
    "        \n",
    "    elif abs(1 - p) < z <= (1 + p):\n",
    "        k_1 = m.acos((1 - p**2 + z**2)/(2*z))\n",
    "        k_0 = m.acos((p**2 + z**2 -1)/(2*p*z))\n",
    "        y_eq_sqrt = m.sqrt((4 * z**2 - (1 + z**2 - p**2)**2)/4)\n",
    "        y_eq = (1/m.pi) * (p**2 * k_0 + k_1 - y_eq_sqrt)\n",
    "        return y_eq\n",
    "        \n",
    "        \n",
    "    elif z <= (1 - p):\n",
    "        return p**2\n",
    "\n",
    "    elif z <= (p - 1):\n",
    "        return 1\n",
    "        \n",
    "\n",
    "def flux_equation(p, z):\n",
    "    return 1 - lambda_function(p, abs(z))\n",
    "\n",
    "if __name__ == \"__main__\":\n",
    "    p = 0.2\n",
    "    z = -1.2\n",
    "    z_values = []\n",
    "    y_values = []\n",
    "    while z <= 1.25:\n",
    "        print(flux_equation(p,z))\n",
    "        y_values.append(flux_equation(p,z))\n",
    "        z += 0.05"
   ]
  },
  {
   "cell_type": "markdown",
   "id": "ae442b87",
   "metadata": {},
   "source": [
    "PROBLEM 3:"
   ]
  },
  {
   "cell_type": "code",
   "execution_count": 12,
   "id": "96ba495e",
   "metadata": {},
   "outputs": [
    {
     "name": "stdout",
     "output_type": "stream",
     "text": [
      "Please input an int power of 10: 3\n",
      "Calculated Area:  1.0007851925466311 Fractional Error:  0.0007851925466311194\n"
     ]
    }
   ],
   "source": [
    "#Problem 3\n",
    "import numpy as np\n",
    "import math as math\n",
    "\n",
    "P = input(\"Please input an int power of 10: \")\n",
    "P = int(P)\n",
    "N = 10**P\n",
    "N_i = N+1\n",
    "z = np.arange(0, N_i, 1)\n",
    "X_N = (math.pi)/2\n",
    "X_0 = 0\n",
    "\n",
    "def int_rectangles(X_N, X_0, N):\n",
    "    delta_X = (X_N - X_0)/N\n",
    "    area_rec = 0\n",
    "    total_sum = 0\n",
    "    i = 0\n",
    "    while i <= N:\n",
    "        for e in z:\n",
    "            X_i = X_0 + e*delta_X\n",
    "            area_rec = math.sin(X_i) * delta_X\n",
    "            total_sum += area_rec\n",
    "            i += 1\n",
    "    return total_sum\n",
    "\n",
    "area_under_curve = int_rectangles((math.pi)/2, 0, N)\n",
    "error = abs(1 - area_under_curve)\n",
    "\n",
    "print(\"Calculated Area: \", area_under_curve, \"Fractional Error: \", error)"
   ]
  },
  {
   "cell_type": "code",
   "execution_count": 13,
   "id": "3ea17773",
   "metadata": {},
   "outputs": [
    {
     "data": {
      "text/plain": [
       "'For 10: 1.076482802694102     Fractional Error: 0.07648280269410201\\nFor 10^2: 1.0078334198735823  Fractional Error: 0.007833419873582326\\nFor 10^3: 1.0007851925466311  Fractional Error: 0.0007851925466311194\\nFor 10^4: 1.0000785377601753  Fractional Error: 0.00007853776017530123\\nFor 10^5: 1.000007853961068   Fractional Error: 0.000007853961067949555\\n\\nAs the number of rectangles increases, the fractional error \\nwill decrease exponentially because as delta X decreases, the \\ncalculated area will gradually get closer to 1 (which is the true \\nresult).'"
      ]
     },
     "execution_count": 13,
     "metadata": {},
     "output_type": "execute_result"
    }
   ],
   "source": [
    "# Problem 3: \n",
    "'''For 10: 1.076482802694102     Fractional Error: 0.07648280269410201\n",
    "For 10^2: 1.0078334198735823  Fractional Error: 0.007833419873582326\n",
    "For 10^3: 1.0007851925466311  Fractional Error: 0.0007851925466311194\n",
    "For 10^4: 1.0000785377601753  Fractional Error: 0.00007853776017530123\n",
    "For 10^5: 1.000007853961068   Fractional Error: 0.000007853961067949555\n",
    "\n",
    "As the number of rectangles increases, the fractional error \n",
    "will decrease exponentially because as delta X decreases, the \n",
    "calculated area will gradually get closer to 1 (which is the true \n",
    "result).'''"
   ]
  },
  {
   "cell_type": "code",
   "execution_count": null,
   "id": "1ed3b457",
   "metadata": {},
   "outputs": [],
   "source": []
  }
 ],
 "metadata": {
  "kernelspec": {
   "display_name": "Python 3",
   "language": "python",
   "name": "python3"
  },
  "language_info": {
   "codemirror_mode": {
    "name": "ipython",
    "version": 3
   },
   "file_extension": ".py",
   "mimetype": "text/x-python",
   "name": "python",
   "nbconvert_exporter": "python",
   "pygments_lexer": "ipython3",
   "version": "3.8.8"
  }
 },
 "nbformat": 4,
 "nbformat_minor": 5
}
